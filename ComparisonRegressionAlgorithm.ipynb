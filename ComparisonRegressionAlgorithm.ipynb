{
  "nbformat": 4,
  "nbformat_minor": 0,
  "metadata": {
    "colab": {
      "provenance": []
    },
    "kernelspec": {
      "name": "python3",
      "display_name": "Python 3"
    },
    "language_info": {
      "name": "python"
    }
  },
  "cells": [
    {
      "cell_type": "code",
      "source": [
        "!curl \"https://raw.githubusercontent.com/mahima-sharma10/MLAlgorithms-comparison/main/train.csv\" > train.csv\n",
        "!curl \"https://raw.githubusercontent.com/mahima-sharma10/MLAlgorithms-comparison/main/test.csv\" > test.csv"
      ],
      "metadata": {
        "colab": {
          "base_uri": "https://localhost:8080/"
        },
        "id": "DS0BYYAI1Omz",
        "outputId": "fd85a383-141f-4e49-cf0b-037b2e44f9b8"
      },
      "execution_count": 1,
      "outputs": [
        {
          "output_type": "stream",
          "name": "stdout",
          "text": [
            "  % Total    % Received % Xferd  Average Speed   Time    Time     Time  Current\n",
            "                                 Dload  Upload   Total   Spent    Left  Speed\n",
            "100 1473k  100 1473k    0     0  2031k      0 --:--:-- --:--:-- --:--:-- 2031k\n",
            "  % Total    % Received % Xferd  Average Speed   Time    Time     Time  Current\n",
            "                                 Dload  Upload   Total   Spent    Left  Speed\n",
            "100  426k  100  426k    0     0  1061k      0 --:--:-- --:--:-- --:--:-- 1061k\n"
          ]
        }
      ]
    },
    {
      "cell_type": "code",
      "execution_count": 2,
      "metadata": {
        "colab": {
          "base_uri": "https://localhost:8080/",
          "height": 206
        },
        "id": "13N9-zdhNadI",
        "outputId": "61d80c10-15ad-4f6f-d286-52d52dbdea2b"
      },
      "outputs": [
        {
          "output_type": "execute_result",
          "data": {
            "text/plain": [
              "   ID             datetime  temperature  var1  pressure  windspeed var2  \\\n",
              "0   0  2013-07-01 00:00:00        -11.4 -17.1    1003.0    571.910    A   \n",
              "1   1  2013-07-01 01:00:00        -12.1 -19.3     996.0    575.040    A   \n",
              "2   2  2013-07-01 02:00:00        -12.9 -20.0    1000.0    578.435    A   \n",
              "3   3  2013-07-01 03:00:00        -11.4 -17.1     995.0    582.580    A   \n",
              "4   4  2013-07-01 04:00:00        -11.4 -19.3    1005.0    586.600    A   \n",
              "\n",
              "   electricity_consumption  \n",
              "0                    216.0  \n",
              "1                    210.0  \n",
              "2                    225.0  \n",
              "3                    216.0  \n",
              "4                    222.0  "
            ],
            "text/html": [
              "\n",
              "  <div id=\"df-a758a8a5-41e7-49b0-8a0c-574b689c875f\">\n",
              "    <div class=\"colab-df-container\">\n",
              "      <div>\n",
              "<style scoped>\n",
              "    .dataframe tbody tr th:only-of-type {\n",
              "        vertical-align: middle;\n",
              "    }\n",
              "\n",
              "    .dataframe tbody tr th {\n",
              "        vertical-align: top;\n",
              "    }\n",
              "\n",
              "    .dataframe thead th {\n",
              "        text-align: right;\n",
              "    }\n",
              "</style>\n",
              "<table border=\"1\" class=\"dataframe\">\n",
              "  <thead>\n",
              "    <tr style=\"text-align: right;\">\n",
              "      <th></th>\n",
              "      <th>ID</th>\n",
              "      <th>datetime</th>\n",
              "      <th>temperature</th>\n",
              "      <th>var1</th>\n",
              "      <th>pressure</th>\n",
              "      <th>windspeed</th>\n",
              "      <th>var2</th>\n",
              "      <th>electricity_consumption</th>\n",
              "    </tr>\n",
              "  </thead>\n",
              "  <tbody>\n",
              "    <tr>\n",
              "      <th>0</th>\n",
              "      <td>0</td>\n",
              "      <td>2013-07-01 00:00:00</td>\n",
              "      <td>-11.4</td>\n",
              "      <td>-17.1</td>\n",
              "      <td>1003.0</td>\n",
              "      <td>571.910</td>\n",
              "      <td>A</td>\n",
              "      <td>216.0</td>\n",
              "    </tr>\n",
              "    <tr>\n",
              "      <th>1</th>\n",
              "      <td>1</td>\n",
              "      <td>2013-07-01 01:00:00</td>\n",
              "      <td>-12.1</td>\n",
              "      <td>-19.3</td>\n",
              "      <td>996.0</td>\n",
              "      <td>575.040</td>\n",
              "      <td>A</td>\n",
              "      <td>210.0</td>\n",
              "    </tr>\n",
              "    <tr>\n",
              "      <th>2</th>\n",
              "      <td>2</td>\n",
              "      <td>2013-07-01 02:00:00</td>\n",
              "      <td>-12.9</td>\n",
              "      <td>-20.0</td>\n",
              "      <td>1000.0</td>\n",
              "      <td>578.435</td>\n",
              "      <td>A</td>\n",
              "      <td>225.0</td>\n",
              "    </tr>\n",
              "    <tr>\n",
              "      <th>3</th>\n",
              "      <td>3</td>\n",
              "      <td>2013-07-01 03:00:00</td>\n",
              "      <td>-11.4</td>\n",
              "      <td>-17.1</td>\n",
              "      <td>995.0</td>\n",
              "      <td>582.580</td>\n",
              "      <td>A</td>\n",
              "      <td>216.0</td>\n",
              "    </tr>\n",
              "    <tr>\n",
              "      <th>4</th>\n",
              "      <td>4</td>\n",
              "      <td>2013-07-01 04:00:00</td>\n",
              "      <td>-11.4</td>\n",
              "      <td>-19.3</td>\n",
              "      <td>1005.0</td>\n",
              "      <td>586.600</td>\n",
              "      <td>A</td>\n",
              "      <td>222.0</td>\n",
              "    </tr>\n",
              "  </tbody>\n",
              "</table>\n",
              "</div>\n",
              "      <button class=\"colab-df-convert\" onclick=\"convertToInteractive('df-a758a8a5-41e7-49b0-8a0c-574b689c875f')\"\n",
              "              title=\"Convert this dataframe to an interactive table.\"\n",
              "              style=\"display:none;\">\n",
              "        \n",
              "  <svg xmlns=\"http://www.w3.org/2000/svg\" height=\"24px\"viewBox=\"0 0 24 24\"\n",
              "       width=\"24px\">\n",
              "    <path d=\"M0 0h24v24H0V0z\" fill=\"none\"/>\n",
              "    <path d=\"M18.56 5.44l.94 2.06.94-2.06 2.06-.94-2.06-.94-.94-2.06-.94 2.06-2.06.94zm-11 1L8.5 8.5l.94-2.06 2.06-.94-2.06-.94L8.5 2.5l-.94 2.06-2.06.94zm10 10l.94 2.06.94-2.06 2.06-.94-2.06-.94-.94-2.06-.94 2.06-2.06.94z\"/><path d=\"M17.41 7.96l-1.37-1.37c-.4-.4-.92-.59-1.43-.59-.52 0-1.04.2-1.43.59L10.3 9.45l-7.72 7.72c-.78.78-.78 2.05 0 2.83L4 21.41c.39.39.9.59 1.41.59.51 0 1.02-.2 1.41-.59l7.78-7.78 2.81-2.81c.8-.78.8-2.07 0-2.86zM5.41 20L4 18.59l7.72-7.72 1.47 1.35L5.41 20z\"/>\n",
              "  </svg>\n",
              "      </button>\n",
              "      \n",
              "  <style>\n",
              "    .colab-df-container {\n",
              "      display:flex;\n",
              "      flex-wrap:wrap;\n",
              "      gap: 12px;\n",
              "    }\n",
              "\n",
              "    .colab-df-convert {\n",
              "      background-color: #E8F0FE;\n",
              "      border: none;\n",
              "      border-radius: 50%;\n",
              "      cursor: pointer;\n",
              "      display: none;\n",
              "      fill: #1967D2;\n",
              "      height: 32px;\n",
              "      padding: 0 0 0 0;\n",
              "      width: 32px;\n",
              "    }\n",
              "\n",
              "    .colab-df-convert:hover {\n",
              "      background-color: #E2EBFA;\n",
              "      box-shadow: 0px 1px 2px rgba(60, 64, 67, 0.3), 0px 1px 3px 1px rgba(60, 64, 67, 0.15);\n",
              "      fill: #174EA6;\n",
              "    }\n",
              "\n",
              "    [theme=dark] .colab-df-convert {\n",
              "      background-color: #3B4455;\n",
              "      fill: #D2E3FC;\n",
              "    }\n",
              "\n",
              "    [theme=dark] .colab-df-convert:hover {\n",
              "      background-color: #434B5C;\n",
              "      box-shadow: 0px 1px 3px 1px rgba(0, 0, 0, 0.15);\n",
              "      filter: drop-shadow(0px 1px 2px rgba(0, 0, 0, 0.3));\n",
              "      fill: #FFFFFF;\n",
              "    }\n",
              "  </style>\n",
              "\n",
              "      <script>\n",
              "        const buttonEl =\n",
              "          document.querySelector('#df-a758a8a5-41e7-49b0-8a0c-574b689c875f button.colab-df-convert');\n",
              "        buttonEl.style.display =\n",
              "          google.colab.kernel.accessAllowed ? 'block' : 'none';\n",
              "\n",
              "        async function convertToInteractive(key) {\n",
              "          const element = document.querySelector('#df-a758a8a5-41e7-49b0-8a0c-574b689c875f');\n",
              "          const dataTable =\n",
              "            await google.colab.kernel.invokeFunction('convertToInteractive',\n",
              "                                                     [key], {});\n",
              "          if (!dataTable) return;\n",
              "\n",
              "          const docLinkHtml = 'Like what you see? Visit the ' +\n",
              "            '<a target=\"_blank\" href=https://colab.research.google.com/notebooks/data_table.ipynb>data table notebook</a>'\n",
              "            + ' to learn more about interactive tables.';\n",
              "          element.innerHTML = '';\n",
              "          dataTable['output_type'] = 'display_data';\n",
              "          await google.colab.output.renderOutput(dataTable, element);\n",
              "          const docLink = document.createElement('div');\n",
              "          docLink.innerHTML = docLinkHtml;\n",
              "          element.appendChild(docLink);\n",
              "        }\n",
              "      </script>\n",
              "    </div>\n",
              "  </div>\n",
              "  "
            ]
          },
          "metadata": {},
          "execution_count": 2
        }
      ],
      "source": [
        "import numpy as np\n",
        "import pandas as pd\n",
        "train_df  = pd.read_csv('train.csv')\n",
        "train_df.head()"
      ]
    },
    {
      "cell_type": "code",
      "source": [
        "len(train_df)"
      ],
      "metadata": {
        "colab": {
          "base_uri": "https://localhost:8080/"
        },
        "id": "5hHDKYBQNJqp",
        "outputId": "52e760ca-1dff-4ff5-dd4d-d520f01da948"
      },
      "execution_count": 3,
      "outputs": [
        {
          "output_type": "execute_result",
          "data": {
            "text/plain": [
              "26496"
            ]
          },
          "metadata": {},
          "execution_count": 3
        }
      ]
    },
    {
      "cell_type": "code",
      "source": [
        "#NO Null data\n",
        "train_df.isnull().sum()"
      ],
      "metadata": {
        "colab": {
          "base_uri": "https://localhost:8080/"
        },
        "id": "p3FIx71eDNwr",
        "outputId": "e69f181e-a40b-4856-86e6-8102e952b948"
      },
      "execution_count": 4,
      "outputs": [
        {
          "output_type": "execute_result",
          "data": {
            "text/plain": [
              "ID                         0\n",
              "datetime                   0\n",
              "temperature                0\n",
              "var1                       0\n",
              "pressure                   0\n",
              "windspeed                  0\n",
              "var2                       0\n",
              "electricity_consumption    0\n",
              "dtype: int64"
            ]
          },
          "metadata": {},
          "execution_count": 4
        }
      ]
    },
    {
      "cell_type": "code",
      "source": [
        "print(train_df.columns)"
      ],
      "metadata": {
        "colab": {
          "base_uri": "https://localhost:8080/"
        },
        "id": "e4oeHiQZDSvQ",
        "outputId": "1c8d5b16-e277-445c-f62f-2327af633ddd"
      },
      "execution_count": 5,
      "outputs": [
        {
          "output_type": "stream",
          "name": "stdout",
          "text": [
            "Index(['ID', 'datetime', 'temperature', 'var1', 'pressure', 'windspeed',\n",
            "       'var2', 'electricity_consumption'],\n",
            "      dtype='object')\n"
          ]
        }
      ]
    },
    {
      "cell_type": "code",
      "source": [
        "print(train_df.dtypes)"
      ],
      "metadata": {
        "id": "gYxSTvY2Dipy",
        "colab": {
          "base_uri": "https://localhost:8080/"
        },
        "outputId": "9f1cfae4-6ab7-4b8f-e158-4f460c743bc6"
      },
      "execution_count": 6,
      "outputs": [
        {
          "output_type": "stream",
          "name": "stdout",
          "text": [
            "ID                           int64\n",
            "datetime                    object\n",
            "temperature                float64\n",
            "var1                       float64\n",
            "pressure                   float64\n",
            "windspeed                  float64\n",
            "var2                        object\n",
            "electricity_consumption    float64\n",
            "dtype: object\n"
          ]
        }
      ]
    },
    {
      "cell_type": "code",
      "source": [
        "train_df['year'] =  pd.to_datetime(train_df['datetime']).dt.year\n",
        "train_df['month'] =  pd.to_datetime(train_df['datetime']).dt.month\n",
        "train_df['day'] =  pd.to_datetime(train_df['datetime']).dt.day\n",
        "train_df['hour'] =  pd.to_datetime(train_df['datetime']).dt.hour"
      ],
      "metadata": {
        "id": "HRsjK8HBMgbL"
      },
      "execution_count": 7,
      "outputs": []
    },
    {
      "cell_type": "code",
      "source": [
        "train_df"
      ],
      "metadata": {
        "colab": {
          "base_uri": "https://localhost:8080/",
          "height": 423
        },
        "id": "MLRjOIu9_npS",
        "outputId": "4ea9d25e-38a8-4119-fcfa-eb82257a866c"
      },
      "execution_count": 8,
      "outputs": [
        {
          "output_type": "execute_result",
          "data": {
            "text/plain": [
              "          ID             datetime  temperature  var1  pressure  windspeed  \\\n",
              "0          0  2013-07-01 00:00:00        -11.4 -17.1    1003.0    571.910   \n",
              "1          1  2013-07-01 01:00:00        -12.1 -19.3     996.0    575.040   \n",
              "2          2  2013-07-01 02:00:00        -12.9 -20.0    1000.0    578.435   \n",
              "3          3  2013-07-01 03:00:00        -11.4 -17.1     995.0    582.580   \n",
              "4          4  2013-07-01 04:00:00        -11.4 -19.3    1005.0    586.600   \n",
              "...      ...                  ...          ...   ...       ...        ...   \n",
              "26491  34891  2017-06-23 19:00:00         -0.7 -15.0    1009.0     51.685   \n",
              "26492  34892  2017-06-23 20:00:00         -2.9 -11.4    1005.0     56.105   \n",
              "26493  34893  2017-06-23 21:00:00         -1.4 -12.9     995.0     61.275   \n",
              "26494  34894  2017-06-23 22:00:00         -2.9 -11.4     996.0     67.210   \n",
              "26495  34895  2017-06-23 23:00:00         -2.1 -11.4    1009.0     71.880   \n",
              "\n",
              "      var2  electricity_consumption  year  month  day  hour  \n",
              "0        A                    216.0  2013      7    1     0  \n",
              "1        A                    210.0  2013      7    1     1  \n",
              "2        A                    225.0  2013      7    1     2  \n",
              "3        A                    216.0  2013      7    1     3  \n",
              "4        A                    222.0  2013      7    1     4  \n",
              "...    ...                      ...   ...    ...  ...   ...  \n",
              "26491    A                    225.0  2017      6   23    19  \n",
              "26492    A                    213.0  2017      6   23    20  \n",
              "26493    A                    213.0  2017      6   23    21  \n",
              "26494    A                    210.0  2017      6   23    22  \n",
              "26495    A                    210.0  2017      6   23    23  \n",
              "\n",
              "[26496 rows x 12 columns]"
            ],
            "text/html": [
              "\n",
              "  <div id=\"df-a6626463-330b-408e-9067-5a582c0f52ec\">\n",
              "    <div class=\"colab-df-container\">\n",
              "      <div>\n",
              "<style scoped>\n",
              "    .dataframe tbody tr th:only-of-type {\n",
              "        vertical-align: middle;\n",
              "    }\n",
              "\n",
              "    .dataframe tbody tr th {\n",
              "        vertical-align: top;\n",
              "    }\n",
              "\n",
              "    .dataframe thead th {\n",
              "        text-align: right;\n",
              "    }\n",
              "</style>\n",
              "<table border=\"1\" class=\"dataframe\">\n",
              "  <thead>\n",
              "    <tr style=\"text-align: right;\">\n",
              "      <th></th>\n",
              "      <th>ID</th>\n",
              "      <th>datetime</th>\n",
              "      <th>temperature</th>\n",
              "      <th>var1</th>\n",
              "      <th>pressure</th>\n",
              "      <th>windspeed</th>\n",
              "      <th>var2</th>\n",
              "      <th>electricity_consumption</th>\n",
              "      <th>year</th>\n",
              "      <th>month</th>\n",
              "      <th>day</th>\n",
              "      <th>hour</th>\n",
              "    </tr>\n",
              "  </thead>\n",
              "  <tbody>\n",
              "    <tr>\n",
              "      <th>0</th>\n",
              "      <td>0</td>\n",
              "      <td>2013-07-01 00:00:00</td>\n",
              "      <td>-11.4</td>\n",
              "      <td>-17.1</td>\n",
              "      <td>1003.0</td>\n",
              "      <td>571.910</td>\n",
              "      <td>A</td>\n",
              "      <td>216.0</td>\n",
              "      <td>2013</td>\n",
              "      <td>7</td>\n",
              "      <td>1</td>\n",
              "      <td>0</td>\n",
              "    </tr>\n",
              "    <tr>\n",
              "      <th>1</th>\n",
              "      <td>1</td>\n",
              "      <td>2013-07-01 01:00:00</td>\n",
              "      <td>-12.1</td>\n",
              "      <td>-19.3</td>\n",
              "      <td>996.0</td>\n",
              "      <td>575.040</td>\n",
              "      <td>A</td>\n",
              "      <td>210.0</td>\n",
              "      <td>2013</td>\n",
              "      <td>7</td>\n",
              "      <td>1</td>\n",
              "      <td>1</td>\n",
              "    </tr>\n",
              "    <tr>\n",
              "      <th>2</th>\n",
              "      <td>2</td>\n",
              "      <td>2013-07-01 02:00:00</td>\n",
              "      <td>-12.9</td>\n",
              "      <td>-20.0</td>\n",
              "      <td>1000.0</td>\n",
              "      <td>578.435</td>\n",
              "      <td>A</td>\n",
              "      <td>225.0</td>\n",
              "      <td>2013</td>\n",
              "      <td>7</td>\n",
              "      <td>1</td>\n",
              "      <td>2</td>\n",
              "    </tr>\n",
              "    <tr>\n",
              "      <th>3</th>\n",
              "      <td>3</td>\n",
              "      <td>2013-07-01 03:00:00</td>\n",
              "      <td>-11.4</td>\n",
              "      <td>-17.1</td>\n",
              "      <td>995.0</td>\n",
              "      <td>582.580</td>\n",
              "      <td>A</td>\n",
              "      <td>216.0</td>\n",
              "      <td>2013</td>\n",
              "      <td>7</td>\n",
              "      <td>1</td>\n",
              "      <td>3</td>\n",
              "    </tr>\n",
              "    <tr>\n",
              "      <th>4</th>\n",
              "      <td>4</td>\n",
              "      <td>2013-07-01 04:00:00</td>\n",
              "      <td>-11.4</td>\n",
              "      <td>-19.3</td>\n",
              "      <td>1005.0</td>\n",
              "      <td>586.600</td>\n",
              "      <td>A</td>\n",
              "      <td>222.0</td>\n",
              "      <td>2013</td>\n",
              "      <td>7</td>\n",
              "      <td>1</td>\n",
              "      <td>4</td>\n",
              "    </tr>\n",
              "    <tr>\n",
              "      <th>...</th>\n",
              "      <td>...</td>\n",
              "      <td>...</td>\n",
              "      <td>...</td>\n",
              "      <td>...</td>\n",
              "      <td>...</td>\n",
              "      <td>...</td>\n",
              "      <td>...</td>\n",
              "      <td>...</td>\n",
              "      <td>...</td>\n",
              "      <td>...</td>\n",
              "      <td>...</td>\n",
              "      <td>...</td>\n",
              "    </tr>\n",
              "    <tr>\n",
              "      <th>26491</th>\n",
              "      <td>34891</td>\n",
              "      <td>2017-06-23 19:00:00</td>\n",
              "      <td>-0.7</td>\n",
              "      <td>-15.0</td>\n",
              "      <td>1009.0</td>\n",
              "      <td>51.685</td>\n",
              "      <td>A</td>\n",
              "      <td>225.0</td>\n",
              "      <td>2017</td>\n",
              "      <td>6</td>\n",
              "      <td>23</td>\n",
              "      <td>19</td>\n",
              "    </tr>\n",
              "    <tr>\n",
              "      <th>26492</th>\n",
              "      <td>34892</td>\n",
              "      <td>2017-06-23 20:00:00</td>\n",
              "      <td>-2.9</td>\n",
              "      <td>-11.4</td>\n",
              "      <td>1005.0</td>\n",
              "      <td>56.105</td>\n",
              "      <td>A</td>\n",
              "      <td>213.0</td>\n",
              "      <td>2017</td>\n",
              "      <td>6</td>\n",
              "      <td>23</td>\n",
              "      <td>20</td>\n",
              "    </tr>\n",
              "    <tr>\n",
              "      <th>26493</th>\n",
              "      <td>34893</td>\n",
              "      <td>2017-06-23 21:00:00</td>\n",
              "      <td>-1.4</td>\n",
              "      <td>-12.9</td>\n",
              "      <td>995.0</td>\n",
              "      <td>61.275</td>\n",
              "      <td>A</td>\n",
              "      <td>213.0</td>\n",
              "      <td>2017</td>\n",
              "      <td>6</td>\n",
              "      <td>23</td>\n",
              "      <td>21</td>\n",
              "    </tr>\n",
              "    <tr>\n",
              "      <th>26494</th>\n",
              "      <td>34894</td>\n",
              "      <td>2017-06-23 22:00:00</td>\n",
              "      <td>-2.9</td>\n",
              "      <td>-11.4</td>\n",
              "      <td>996.0</td>\n",
              "      <td>67.210</td>\n",
              "      <td>A</td>\n",
              "      <td>210.0</td>\n",
              "      <td>2017</td>\n",
              "      <td>6</td>\n",
              "      <td>23</td>\n",
              "      <td>22</td>\n",
              "    </tr>\n",
              "    <tr>\n",
              "      <th>26495</th>\n",
              "      <td>34895</td>\n",
              "      <td>2017-06-23 23:00:00</td>\n",
              "      <td>-2.1</td>\n",
              "      <td>-11.4</td>\n",
              "      <td>1009.0</td>\n",
              "      <td>71.880</td>\n",
              "      <td>A</td>\n",
              "      <td>210.0</td>\n",
              "      <td>2017</td>\n",
              "      <td>6</td>\n",
              "      <td>23</td>\n",
              "      <td>23</td>\n",
              "    </tr>\n",
              "  </tbody>\n",
              "</table>\n",
              "<p>26496 rows × 12 columns</p>\n",
              "</div>\n",
              "      <button class=\"colab-df-convert\" onclick=\"convertToInteractive('df-a6626463-330b-408e-9067-5a582c0f52ec')\"\n",
              "              title=\"Convert this dataframe to an interactive table.\"\n",
              "              style=\"display:none;\">\n",
              "        \n",
              "  <svg xmlns=\"http://www.w3.org/2000/svg\" height=\"24px\"viewBox=\"0 0 24 24\"\n",
              "       width=\"24px\">\n",
              "    <path d=\"M0 0h24v24H0V0z\" fill=\"none\"/>\n",
              "    <path d=\"M18.56 5.44l.94 2.06.94-2.06 2.06-.94-2.06-.94-.94-2.06-.94 2.06-2.06.94zm-11 1L8.5 8.5l.94-2.06 2.06-.94-2.06-.94L8.5 2.5l-.94 2.06-2.06.94zm10 10l.94 2.06.94-2.06 2.06-.94-2.06-.94-.94-2.06-.94 2.06-2.06.94z\"/><path d=\"M17.41 7.96l-1.37-1.37c-.4-.4-.92-.59-1.43-.59-.52 0-1.04.2-1.43.59L10.3 9.45l-7.72 7.72c-.78.78-.78 2.05 0 2.83L4 21.41c.39.39.9.59 1.41.59.51 0 1.02-.2 1.41-.59l7.78-7.78 2.81-2.81c.8-.78.8-2.07 0-2.86zM5.41 20L4 18.59l7.72-7.72 1.47 1.35L5.41 20z\"/>\n",
              "  </svg>\n",
              "      </button>\n",
              "      \n",
              "  <style>\n",
              "    .colab-df-container {\n",
              "      display:flex;\n",
              "      flex-wrap:wrap;\n",
              "      gap: 12px;\n",
              "    }\n",
              "\n",
              "    .colab-df-convert {\n",
              "      background-color: #E8F0FE;\n",
              "      border: none;\n",
              "      border-radius: 50%;\n",
              "      cursor: pointer;\n",
              "      display: none;\n",
              "      fill: #1967D2;\n",
              "      height: 32px;\n",
              "      padding: 0 0 0 0;\n",
              "      width: 32px;\n",
              "    }\n",
              "\n",
              "    .colab-df-convert:hover {\n",
              "      background-color: #E2EBFA;\n",
              "      box-shadow: 0px 1px 2px rgba(60, 64, 67, 0.3), 0px 1px 3px 1px rgba(60, 64, 67, 0.15);\n",
              "      fill: #174EA6;\n",
              "    }\n",
              "\n",
              "    [theme=dark] .colab-df-convert {\n",
              "      background-color: #3B4455;\n",
              "      fill: #D2E3FC;\n",
              "    }\n",
              "\n",
              "    [theme=dark] .colab-df-convert:hover {\n",
              "      background-color: #434B5C;\n",
              "      box-shadow: 0px 1px 3px 1px rgba(0, 0, 0, 0.15);\n",
              "      filter: drop-shadow(0px 1px 2px rgba(0, 0, 0, 0.3));\n",
              "      fill: #FFFFFF;\n",
              "    }\n",
              "  </style>\n",
              "\n",
              "      <script>\n",
              "        const buttonEl =\n",
              "          document.querySelector('#df-a6626463-330b-408e-9067-5a582c0f52ec button.colab-df-convert');\n",
              "        buttonEl.style.display =\n",
              "          google.colab.kernel.accessAllowed ? 'block' : 'none';\n",
              "\n",
              "        async function convertToInteractive(key) {\n",
              "          const element = document.querySelector('#df-a6626463-330b-408e-9067-5a582c0f52ec');\n",
              "          const dataTable =\n",
              "            await google.colab.kernel.invokeFunction('convertToInteractive',\n",
              "                                                     [key], {});\n",
              "          if (!dataTable) return;\n",
              "\n",
              "          const docLinkHtml = 'Like what you see? Visit the ' +\n",
              "            '<a target=\"_blank\" href=https://colab.research.google.com/notebooks/data_table.ipynb>data table notebook</a>'\n",
              "            + ' to learn more about interactive tables.';\n",
              "          element.innerHTML = '';\n",
              "          dataTable['output_type'] = 'display_data';\n",
              "          await google.colab.output.renderOutput(dataTable, element);\n",
              "          const docLink = document.createElement('div');\n",
              "          docLink.innerHTML = docLinkHtml;\n",
              "          element.appendChild(docLink);\n",
              "        }\n",
              "      </script>\n",
              "    </div>\n",
              "  </div>\n",
              "  "
            ]
          },
          "metadata": {},
          "execution_count": 8
        }
      ]
    },
    {
      "cell_type": "code",
      "source": [
        "train_df[\"var2\"].unique()"
      ],
      "metadata": {
        "colab": {
          "base_uri": "https://localhost:8080/"
        },
        "id": "ZT6TA0vQ2By_",
        "outputId": "f635c577-1d60-4d74-d3c4-126c9d3bf003"
      },
      "execution_count": 9,
      "outputs": [
        {
          "output_type": "execute_result",
          "data": {
            "text/plain": [
              "array(['A', 'B', 'C'], dtype=object)"
            ]
          },
          "metadata": {},
          "execution_count": 9
        }
      ]
    },
    {
      "cell_type": "code",
      "source": [
        "import numpy as np\n",
        "import pandas as pd\n",
        "from sklearn.preprocessing import OneHotEncoder\n",
        "\n",
        "ohe = OneHotEncoder()\n",
        "\n",
        "ohe.fit_transform(train_df[[\"var2\"]]).toarray()\n",
        "feature_array = ohe.fit_transform(train_df[[\"var2\"]]).toarray()\n",
        "ohe.categories_\n",
        "feature_labels = ohe.categories_\n",
        "np.array(feature_labels).ravel()\n",
        "feature_labels = np.array(feature_labels).ravel()\n",
        "pd.DataFrame(feature_array, columns = feature_labels)\n",
        "\n",
        "features = pd.DataFrame(feature_array, columns = feature_labels)\n",
        "print(features)\n",
        "features.head()"
      ],
      "metadata": {
        "id": "3_uIEHNQ2ay5",
        "colab": {
          "base_uri": "https://localhost:8080/",
          "height": 449
        },
        "outputId": "0f6bb2a6-48aa-4f74-f9e4-fefb758ff99f"
      },
      "execution_count": 10,
      "outputs": [
        {
          "output_type": "stream",
          "name": "stdout",
          "text": [
            "         A    B    C\n",
            "0      1.0  0.0  0.0\n",
            "1      1.0  0.0  0.0\n",
            "2      1.0  0.0  0.0\n",
            "3      1.0  0.0  0.0\n",
            "4      1.0  0.0  0.0\n",
            "...    ...  ...  ...\n",
            "26491  1.0  0.0  0.0\n",
            "26492  1.0  0.0  0.0\n",
            "26493  1.0  0.0  0.0\n",
            "26494  1.0  0.0  0.0\n",
            "26495  1.0  0.0  0.0\n",
            "\n",
            "[26496 rows x 3 columns]\n"
          ]
        },
        {
          "output_type": "execute_result",
          "data": {
            "text/plain": [
              "     A    B    C\n",
              "0  1.0  0.0  0.0\n",
              "1  1.0  0.0  0.0\n",
              "2  1.0  0.0  0.0\n",
              "3  1.0  0.0  0.0\n",
              "4  1.0  0.0  0.0"
            ],
            "text/html": [
              "\n",
              "  <div id=\"df-5205c099-54f4-439e-b0a8-1c6b20ffdf8f\">\n",
              "    <div class=\"colab-df-container\">\n",
              "      <div>\n",
              "<style scoped>\n",
              "    .dataframe tbody tr th:only-of-type {\n",
              "        vertical-align: middle;\n",
              "    }\n",
              "\n",
              "    .dataframe tbody tr th {\n",
              "        vertical-align: top;\n",
              "    }\n",
              "\n",
              "    .dataframe thead th {\n",
              "        text-align: right;\n",
              "    }\n",
              "</style>\n",
              "<table border=\"1\" class=\"dataframe\">\n",
              "  <thead>\n",
              "    <tr style=\"text-align: right;\">\n",
              "      <th></th>\n",
              "      <th>A</th>\n",
              "      <th>B</th>\n",
              "      <th>C</th>\n",
              "    </tr>\n",
              "  </thead>\n",
              "  <tbody>\n",
              "    <tr>\n",
              "      <th>0</th>\n",
              "      <td>1.0</td>\n",
              "      <td>0.0</td>\n",
              "      <td>0.0</td>\n",
              "    </tr>\n",
              "    <tr>\n",
              "      <th>1</th>\n",
              "      <td>1.0</td>\n",
              "      <td>0.0</td>\n",
              "      <td>0.0</td>\n",
              "    </tr>\n",
              "    <tr>\n",
              "      <th>2</th>\n",
              "      <td>1.0</td>\n",
              "      <td>0.0</td>\n",
              "      <td>0.0</td>\n",
              "    </tr>\n",
              "    <tr>\n",
              "      <th>3</th>\n",
              "      <td>1.0</td>\n",
              "      <td>0.0</td>\n",
              "      <td>0.0</td>\n",
              "    </tr>\n",
              "    <tr>\n",
              "      <th>4</th>\n",
              "      <td>1.0</td>\n",
              "      <td>0.0</td>\n",
              "      <td>0.0</td>\n",
              "    </tr>\n",
              "  </tbody>\n",
              "</table>\n",
              "</div>\n",
              "      <button class=\"colab-df-convert\" onclick=\"convertToInteractive('df-5205c099-54f4-439e-b0a8-1c6b20ffdf8f')\"\n",
              "              title=\"Convert this dataframe to an interactive table.\"\n",
              "              style=\"display:none;\">\n",
              "        \n",
              "  <svg xmlns=\"http://www.w3.org/2000/svg\" height=\"24px\"viewBox=\"0 0 24 24\"\n",
              "       width=\"24px\">\n",
              "    <path d=\"M0 0h24v24H0V0z\" fill=\"none\"/>\n",
              "    <path d=\"M18.56 5.44l.94 2.06.94-2.06 2.06-.94-2.06-.94-.94-2.06-.94 2.06-2.06.94zm-11 1L8.5 8.5l.94-2.06 2.06-.94-2.06-.94L8.5 2.5l-.94 2.06-2.06.94zm10 10l.94 2.06.94-2.06 2.06-.94-2.06-.94-.94-2.06-.94 2.06-2.06.94z\"/><path d=\"M17.41 7.96l-1.37-1.37c-.4-.4-.92-.59-1.43-.59-.52 0-1.04.2-1.43.59L10.3 9.45l-7.72 7.72c-.78.78-.78 2.05 0 2.83L4 21.41c.39.39.9.59 1.41.59.51 0 1.02-.2 1.41-.59l7.78-7.78 2.81-2.81c.8-.78.8-2.07 0-2.86zM5.41 20L4 18.59l7.72-7.72 1.47 1.35L5.41 20z\"/>\n",
              "  </svg>\n",
              "      </button>\n",
              "      \n",
              "  <style>\n",
              "    .colab-df-container {\n",
              "      display:flex;\n",
              "      flex-wrap:wrap;\n",
              "      gap: 12px;\n",
              "    }\n",
              "\n",
              "    .colab-df-convert {\n",
              "      background-color: #E8F0FE;\n",
              "      border: none;\n",
              "      border-radius: 50%;\n",
              "      cursor: pointer;\n",
              "      display: none;\n",
              "      fill: #1967D2;\n",
              "      height: 32px;\n",
              "      padding: 0 0 0 0;\n",
              "      width: 32px;\n",
              "    }\n",
              "\n",
              "    .colab-df-convert:hover {\n",
              "      background-color: #E2EBFA;\n",
              "      box-shadow: 0px 1px 2px rgba(60, 64, 67, 0.3), 0px 1px 3px 1px rgba(60, 64, 67, 0.15);\n",
              "      fill: #174EA6;\n",
              "    }\n",
              "\n",
              "    [theme=dark] .colab-df-convert {\n",
              "      background-color: #3B4455;\n",
              "      fill: #D2E3FC;\n",
              "    }\n",
              "\n",
              "    [theme=dark] .colab-df-convert:hover {\n",
              "      background-color: #434B5C;\n",
              "      box-shadow: 0px 1px 3px 1px rgba(0, 0, 0, 0.15);\n",
              "      filter: drop-shadow(0px 1px 2px rgba(0, 0, 0, 0.3));\n",
              "      fill: #FFFFFF;\n",
              "    }\n",
              "  </style>\n",
              "\n",
              "      <script>\n",
              "        const buttonEl =\n",
              "          document.querySelector('#df-5205c099-54f4-439e-b0a8-1c6b20ffdf8f button.colab-df-convert');\n",
              "        buttonEl.style.display =\n",
              "          google.colab.kernel.accessAllowed ? 'block' : 'none';\n",
              "\n",
              "        async function convertToInteractive(key) {\n",
              "          const element = document.querySelector('#df-5205c099-54f4-439e-b0a8-1c6b20ffdf8f');\n",
              "          const dataTable =\n",
              "            await google.colab.kernel.invokeFunction('convertToInteractive',\n",
              "                                                     [key], {});\n",
              "          if (!dataTable) return;\n",
              "\n",
              "          const docLinkHtml = 'Like what you see? Visit the ' +\n",
              "            '<a target=\"_blank\" href=https://colab.research.google.com/notebooks/data_table.ipynb>data table notebook</a>'\n",
              "            + ' to learn more about interactive tables.';\n",
              "          element.innerHTML = '';\n",
              "          dataTable['output_type'] = 'display_data';\n",
              "          await google.colab.output.renderOutput(dataTable, element);\n",
              "          const docLink = document.createElement('div');\n",
              "          docLink.innerHTML = docLinkHtml;\n",
              "          element.appendChild(docLink);\n",
              "        }\n",
              "      </script>\n",
              "    </div>\n",
              "  </div>\n",
              "  "
            ]
          },
          "metadata": {},
          "execution_count": 10
        }
      ]
    },
    {
      "cell_type": "code",
      "source": [
        "trainX = pd.concat([train_df,features], axis=1)\n",
        "trainX = trainX.drop(columns=['var2','datetime'])"
      ],
      "metadata": {
        "id": "oK6LOV23brfY"
      },
      "execution_count": 11,
      "outputs": []
    },
    {
      "cell_type": "code",
      "source": [
        "trainX"
      ],
      "metadata": {
        "colab": {
          "base_uri": "https://localhost:8080/",
          "height": 423
        },
        "id": "8aflNRbXNAKB",
        "outputId": "acfc0ee2-197d-497e-dc68-4a8b1ed097b6"
      },
      "execution_count": 12,
      "outputs": [
        {
          "output_type": "execute_result",
          "data": {
            "text/plain": [
              "          ID  temperature  var1  pressure  windspeed  electricity_consumption  \\\n",
              "0          0        -11.4 -17.1    1003.0    571.910                    216.0   \n",
              "1          1        -12.1 -19.3     996.0    575.040                    210.0   \n",
              "2          2        -12.9 -20.0    1000.0    578.435                    225.0   \n",
              "3          3        -11.4 -17.1     995.0    582.580                    216.0   \n",
              "4          4        -11.4 -19.3    1005.0    586.600                    222.0   \n",
              "...      ...          ...   ...       ...        ...                      ...   \n",
              "26491  34891         -0.7 -15.0    1009.0     51.685                    225.0   \n",
              "26492  34892         -2.9 -11.4    1005.0     56.105                    213.0   \n",
              "26493  34893         -1.4 -12.9     995.0     61.275                    213.0   \n",
              "26494  34894         -2.9 -11.4     996.0     67.210                    210.0   \n",
              "26495  34895         -2.1 -11.4    1009.0     71.880                    210.0   \n",
              "\n",
              "       year  month  day  hour    A    B    C  \n",
              "0      2013      7    1     0  1.0  0.0  0.0  \n",
              "1      2013      7    1     1  1.0  0.0  0.0  \n",
              "2      2013      7    1     2  1.0  0.0  0.0  \n",
              "3      2013      7    1     3  1.0  0.0  0.0  \n",
              "4      2013      7    1     4  1.0  0.0  0.0  \n",
              "...     ...    ...  ...   ...  ...  ...  ...  \n",
              "26491  2017      6   23    19  1.0  0.0  0.0  \n",
              "26492  2017      6   23    20  1.0  0.0  0.0  \n",
              "26493  2017      6   23    21  1.0  0.0  0.0  \n",
              "26494  2017      6   23    22  1.0  0.0  0.0  \n",
              "26495  2017      6   23    23  1.0  0.0  0.0  \n",
              "\n",
              "[26496 rows x 13 columns]"
            ],
            "text/html": [
              "\n",
              "  <div id=\"df-c01345c1-4266-4ceb-9512-cf57fe34fbbe\">\n",
              "    <div class=\"colab-df-container\">\n",
              "      <div>\n",
              "<style scoped>\n",
              "    .dataframe tbody tr th:only-of-type {\n",
              "        vertical-align: middle;\n",
              "    }\n",
              "\n",
              "    .dataframe tbody tr th {\n",
              "        vertical-align: top;\n",
              "    }\n",
              "\n",
              "    .dataframe thead th {\n",
              "        text-align: right;\n",
              "    }\n",
              "</style>\n",
              "<table border=\"1\" class=\"dataframe\">\n",
              "  <thead>\n",
              "    <tr style=\"text-align: right;\">\n",
              "      <th></th>\n",
              "      <th>ID</th>\n",
              "      <th>temperature</th>\n",
              "      <th>var1</th>\n",
              "      <th>pressure</th>\n",
              "      <th>windspeed</th>\n",
              "      <th>electricity_consumption</th>\n",
              "      <th>year</th>\n",
              "      <th>month</th>\n",
              "      <th>day</th>\n",
              "      <th>hour</th>\n",
              "      <th>A</th>\n",
              "      <th>B</th>\n",
              "      <th>C</th>\n",
              "    </tr>\n",
              "  </thead>\n",
              "  <tbody>\n",
              "    <tr>\n",
              "      <th>0</th>\n",
              "      <td>0</td>\n",
              "      <td>-11.4</td>\n",
              "      <td>-17.1</td>\n",
              "      <td>1003.0</td>\n",
              "      <td>571.910</td>\n",
              "      <td>216.0</td>\n",
              "      <td>2013</td>\n",
              "      <td>7</td>\n",
              "      <td>1</td>\n",
              "      <td>0</td>\n",
              "      <td>1.0</td>\n",
              "      <td>0.0</td>\n",
              "      <td>0.0</td>\n",
              "    </tr>\n",
              "    <tr>\n",
              "      <th>1</th>\n",
              "      <td>1</td>\n",
              "      <td>-12.1</td>\n",
              "      <td>-19.3</td>\n",
              "      <td>996.0</td>\n",
              "      <td>575.040</td>\n",
              "      <td>210.0</td>\n",
              "      <td>2013</td>\n",
              "      <td>7</td>\n",
              "      <td>1</td>\n",
              "      <td>1</td>\n",
              "      <td>1.0</td>\n",
              "      <td>0.0</td>\n",
              "      <td>0.0</td>\n",
              "    </tr>\n",
              "    <tr>\n",
              "      <th>2</th>\n",
              "      <td>2</td>\n",
              "      <td>-12.9</td>\n",
              "      <td>-20.0</td>\n",
              "      <td>1000.0</td>\n",
              "      <td>578.435</td>\n",
              "      <td>225.0</td>\n",
              "      <td>2013</td>\n",
              "      <td>7</td>\n",
              "      <td>1</td>\n",
              "      <td>2</td>\n",
              "      <td>1.0</td>\n",
              "      <td>0.0</td>\n",
              "      <td>0.0</td>\n",
              "    </tr>\n",
              "    <tr>\n",
              "      <th>3</th>\n",
              "      <td>3</td>\n",
              "      <td>-11.4</td>\n",
              "      <td>-17.1</td>\n",
              "      <td>995.0</td>\n",
              "      <td>582.580</td>\n",
              "      <td>216.0</td>\n",
              "      <td>2013</td>\n",
              "      <td>7</td>\n",
              "      <td>1</td>\n",
              "      <td>3</td>\n",
              "      <td>1.0</td>\n",
              "      <td>0.0</td>\n",
              "      <td>0.0</td>\n",
              "    </tr>\n",
              "    <tr>\n",
              "      <th>4</th>\n",
              "      <td>4</td>\n",
              "      <td>-11.4</td>\n",
              "      <td>-19.3</td>\n",
              "      <td>1005.0</td>\n",
              "      <td>586.600</td>\n",
              "      <td>222.0</td>\n",
              "      <td>2013</td>\n",
              "      <td>7</td>\n",
              "      <td>1</td>\n",
              "      <td>4</td>\n",
              "      <td>1.0</td>\n",
              "      <td>0.0</td>\n",
              "      <td>0.0</td>\n",
              "    </tr>\n",
              "    <tr>\n",
              "      <th>...</th>\n",
              "      <td>...</td>\n",
              "      <td>...</td>\n",
              "      <td>...</td>\n",
              "      <td>...</td>\n",
              "      <td>...</td>\n",
              "      <td>...</td>\n",
              "      <td>...</td>\n",
              "      <td>...</td>\n",
              "      <td>...</td>\n",
              "      <td>...</td>\n",
              "      <td>...</td>\n",
              "      <td>...</td>\n",
              "      <td>...</td>\n",
              "    </tr>\n",
              "    <tr>\n",
              "      <th>26491</th>\n",
              "      <td>34891</td>\n",
              "      <td>-0.7</td>\n",
              "      <td>-15.0</td>\n",
              "      <td>1009.0</td>\n",
              "      <td>51.685</td>\n",
              "      <td>225.0</td>\n",
              "      <td>2017</td>\n",
              "      <td>6</td>\n",
              "      <td>23</td>\n",
              "      <td>19</td>\n",
              "      <td>1.0</td>\n",
              "      <td>0.0</td>\n",
              "      <td>0.0</td>\n",
              "    </tr>\n",
              "    <tr>\n",
              "      <th>26492</th>\n",
              "      <td>34892</td>\n",
              "      <td>-2.9</td>\n",
              "      <td>-11.4</td>\n",
              "      <td>1005.0</td>\n",
              "      <td>56.105</td>\n",
              "      <td>213.0</td>\n",
              "      <td>2017</td>\n",
              "      <td>6</td>\n",
              "      <td>23</td>\n",
              "      <td>20</td>\n",
              "      <td>1.0</td>\n",
              "      <td>0.0</td>\n",
              "      <td>0.0</td>\n",
              "    </tr>\n",
              "    <tr>\n",
              "      <th>26493</th>\n",
              "      <td>34893</td>\n",
              "      <td>-1.4</td>\n",
              "      <td>-12.9</td>\n",
              "      <td>995.0</td>\n",
              "      <td>61.275</td>\n",
              "      <td>213.0</td>\n",
              "      <td>2017</td>\n",
              "      <td>6</td>\n",
              "      <td>23</td>\n",
              "      <td>21</td>\n",
              "      <td>1.0</td>\n",
              "      <td>0.0</td>\n",
              "      <td>0.0</td>\n",
              "    </tr>\n",
              "    <tr>\n",
              "      <th>26494</th>\n",
              "      <td>34894</td>\n",
              "      <td>-2.9</td>\n",
              "      <td>-11.4</td>\n",
              "      <td>996.0</td>\n",
              "      <td>67.210</td>\n",
              "      <td>210.0</td>\n",
              "      <td>2017</td>\n",
              "      <td>6</td>\n",
              "      <td>23</td>\n",
              "      <td>22</td>\n",
              "      <td>1.0</td>\n",
              "      <td>0.0</td>\n",
              "      <td>0.0</td>\n",
              "    </tr>\n",
              "    <tr>\n",
              "      <th>26495</th>\n",
              "      <td>34895</td>\n",
              "      <td>-2.1</td>\n",
              "      <td>-11.4</td>\n",
              "      <td>1009.0</td>\n",
              "      <td>71.880</td>\n",
              "      <td>210.0</td>\n",
              "      <td>2017</td>\n",
              "      <td>6</td>\n",
              "      <td>23</td>\n",
              "      <td>23</td>\n",
              "      <td>1.0</td>\n",
              "      <td>0.0</td>\n",
              "      <td>0.0</td>\n",
              "    </tr>\n",
              "  </tbody>\n",
              "</table>\n",
              "<p>26496 rows × 13 columns</p>\n",
              "</div>\n",
              "      <button class=\"colab-df-convert\" onclick=\"convertToInteractive('df-c01345c1-4266-4ceb-9512-cf57fe34fbbe')\"\n",
              "              title=\"Convert this dataframe to an interactive table.\"\n",
              "              style=\"display:none;\">\n",
              "        \n",
              "  <svg xmlns=\"http://www.w3.org/2000/svg\" height=\"24px\"viewBox=\"0 0 24 24\"\n",
              "       width=\"24px\">\n",
              "    <path d=\"M0 0h24v24H0V0z\" fill=\"none\"/>\n",
              "    <path d=\"M18.56 5.44l.94 2.06.94-2.06 2.06-.94-2.06-.94-.94-2.06-.94 2.06-2.06.94zm-11 1L8.5 8.5l.94-2.06 2.06-.94-2.06-.94L8.5 2.5l-.94 2.06-2.06.94zm10 10l.94 2.06.94-2.06 2.06-.94-2.06-.94-.94-2.06-.94 2.06-2.06.94z\"/><path d=\"M17.41 7.96l-1.37-1.37c-.4-.4-.92-.59-1.43-.59-.52 0-1.04.2-1.43.59L10.3 9.45l-7.72 7.72c-.78.78-.78 2.05 0 2.83L4 21.41c.39.39.9.59 1.41.59.51 0 1.02-.2 1.41-.59l7.78-7.78 2.81-2.81c.8-.78.8-2.07 0-2.86zM5.41 20L4 18.59l7.72-7.72 1.47 1.35L5.41 20z\"/>\n",
              "  </svg>\n",
              "      </button>\n",
              "      \n",
              "  <style>\n",
              "    .colab-df-container {\n",
              "      display:flex;\n",
              "      flex-wrap:wrap;\n",
              "      gap: 12px;\n",
              "    }\n",
              "\n",
              "    .colab-df-convert {\n",
              "      background-color: #E8F0FE;\n",
              "      border: none;\n",
              "      border-radius: 50%;\n",
              "      cursor: pointer;\n",
              "      display: none;\n",
              "      fill: #1967D2;\n",
              "      height: 32px;\n",
              "      padding: 0 0 0 0;\n",
              "      width: 32px;\n",
              "    }\n",
              "\n",
              "    .colab-df-convert:hover {\n",
              "      background-color: #E2EBFA;\n",
              "      box-shadow: 0px 1px 2px rgba(60, 64, 67, 0.3), 0px 1px 3px 1px rgba(60, 64, 67, 0.15);\n",
              "      fill: #174EA6;\n",
              "    }\n",
              "\n",
              "    [theme=dark] .colab-df-convert {\n",
              "      background-color: #3B4455;\n",
              "      fill: #D2E3FC;\n",
              "    }\n",
              "\n",
              "    [theme=dark] .colab-df-convert:hover {\n",
              "      background-color: #434B5C;\n",
              "      box-shadow: 0px 1px 3px 1px rgba(0, 0, 0, 0.15);\n",
              "      filter: drop-shadow(0px 1px 2px rgba(0, 0, 0, 0.3));\n",
              "      fill: #FFFFFF;\n",
              "    }\n",
              "  </style>\n",
              "\n",
              "      <script>\n",
              "        const buttonEl =\n",
              "          document.querySelector('#df-c01345c1-4266-4ceb-9512-cf57fe34fbbe button.colab-df-convert');\n",
              "        buttonEl.style.display =\n",
              "          google.colab.kernel.accessAllowed ? 'block' : 'none';\n",
              "\n",
              "        async function convertToInteractive(key) {\n",
              "          const element = document.querySelector('#df-c01345c1-4266-4ceb-9512-cf57fe34fbbe');\n",
              "          const dataTable =\n",
              "            await google.colab.kernel.invokeFunction('convertToInteractive',\n",
              "                                                     [key], {});\n",
              "          if (!dataTable) return;\n",
              "\n",
              "          const docLinkHtml = 'Like what you see? Visit the ' +\n",
              "            '<a target=\"_blank\" href=https://colab.research.google.com/notebooks/data_table.ipynb>data table notebook</a>'\n",
              "            + ' to learn more about interactive tables.';\n",
              "          element.innerHTML = '';\n",
              "          dataTable['output_type'] = 'display_data';\n",
              "          await google.colab.output.renderOutput(dataTable, element);\n",
              "          const docLink = document.createElement('div');\n",
              "          docLink.innerHTML = docLinkHtml;\n",
              "          element.appendChild(docLink);\n",
              "        }\n",
              "      </script>\n",
              "    </div>\n",
              "  </div>\n",
              "  "
            ]
          },
          "metadata": {},
          "execution_count": 12
        }
      ]
    },
    {
      "cell_type": "code",
      "source": [
        "print(len(trainX))\n",
        "trainX.head()"
      ],
      "metadata": {
        "colab": {
          "base_uri": "https://localhost:8080/",
          "height": 223
        },
        "id": "DMnAaHD-NG4k",
        "outputId": "e2c58344-c9ad-41ae-9530-ead6df163a24"
      },
      "execution_count": 13,
      "outputs": [
        {
          "output_type": "stream",
          "name": "stdout",
          "text": [
            "26496\n"
          ]
        },
        {
          "output_type": "execute_result",
          "data": {
            "text/plain": [
              "   ID  temperature  var1  pressure  windspeed  electricity_consumption  year  \\\n",
              "0   0        -11.4 -17.1    1003.0    571.910                    216.0  2013   \n",
              "1   1        -12.1 -19.3     996.0    575.040                    210.0  2013   \n",
              "2   2        -12.9 -20.0    1000.0    578.435                    225.0  2013   \n",
              "3   3        -11.4 -17.1     995.0    582.580                    216.0  2013   \n",
              "4   4        -11.4 -19.3    1005.0    586.600                    222.0  2013   \n",
              "\n",
              "   month  day  hour    A    B    C  \n",
              "0      7    1     0  1.0  0.0  0.0  \n",
              "1      7    1     1  1.0  0.0  0.0  \n",
              "2      7    1     2  1.0  0.0  0.0  \n",
              "3      7    1     3  1.0  0.0  0.0  \n",
              "4      7    1     4  1.0  0.0  0.0  "
            ],
            "text/html": [
              "\n",
              "  <div id=\"df-aa209bd3-3bfe-429a-9240-67daa08d6e72\">\n",
              "    <div class=\"colab-df-container\">\n",
              "      <div>\n",
              "<style scoped>\n",
              "    .dataframe tbody tr th:only-of-type {\n",
              "        vertical-align: middle;\n",
              "    }\n",
              "\n",
              "    .dataframe tbody tr th {\n",
              "        vertical-align: top;\n",
              "    }\n",
              "\n",
              "    .dataframe thead th {\n",
              "        text-align: right;\n",
              "    }\n",
              "</style>\n",
              "<table border=\"1\" class=\"dataframe\">\n",
              "  <thead>\n",
              "    <tr style=\"text-align: right;\">\n",
              "      <th></th>\n",
              "      <th>ID</th>\n",
              "      <th>temperature</th>\n",
              "      <th>var1</th>\n",
              "      <th>pressure</th>\n",
              "      <th>windspeed</th>\n",
              "      <th>electricity_consumption</th>\n",
              "      <th>year</th>\n",
              "      <th>month</th>\n",
              "      <th>day</th>\n",
              "      <th>hour</th>\n",
              "      <th>A</th>\n",
              "      <th>B</th>\n",
              "      <th>C</th>\n",
              "    </tr>\n",
              "  </thead>\n",
              "  <tbody>\n",
              "    <tr>\n",
              "      <th>0</th>\n",
              "      <td>0</td>\n",
              "      <td>-11.4</td>\n",
              "      <td>-17.1</td>\n",
              "      <td>1003.0</td>\n",
              "      <td>571.910</td>\n",
              "      <td>216.0</td>\n",
              "      <td>2013</td>\n",
              "      <td>7</td>\n",
              "      <td>1</td>\n",
              "      <td>0</td>\n",
              "      <td>1.0</td>\n",
              "      <td>0.0</td>\n",
              "      <td>0.0</td>\n",
              "    </tr>\n",
              "    <tr>\n",
              "      <th>1</th>\n",
              "      <td>1</td>\n",
              "      <td>-12.1</td>\n",
              "      <td>-19.3</td>\n",
              "      <td>996.0</td>\n",
              "      <td>575.040</td>\n",
              "      <td>210.0</td>\n",
              "      <td>2013</td>\n",
              "      <td>7</td>\n",
              "      <td>1</td>\n",
              "      <td>1</td>\n",
              "      <td>1.0</td>\n",
              "      <td>0.0</td>\n",
              "      <td>0.0</td>\n",
              "    </tr>\n",
              "    <tr>\n",
              "      <th>2</th>\n",
              "      <td>2</td>\n",
              "      <td>-12.9</td>\n",
              "      <td>-20.0</td>\n",
              "      <td>1000.0</td>\n",
              "      <td>578.435</td>\n",
              "      <td>225.0</td>\n",
              "      <td>2013</td>\n",
              "      <td>7</td>\n",
              "      <td>1</td>\n",
              "      <td>2</td>\n",
              "      <td>1.0</td>\n",
              "      <td>0.0</td>\n",
              "      <td>0.0</td>\n",
              "    </tr>\n",
              "    <tr>\n",
              "      <th>3</th>\n",
              "      <td>3</td>\n",
              "      <td>-11.4</td>\n",
              "      <td>-17.1</td>\n",
              "      <td>995.0</td>\n",
              "      <td>582.580</td>\n",
              "      <td>216.0</td>\n",
              "      <td>2013</td>\n",
              "      <td>7</td>\n",
              "      <td>1</td>\n",
              "      <td>3</td>\n",
              "      <td>1.0</td>\n",
              "      <td>0.0</td>\n",
              "      <td>0.0</td>\n",
              "    </tr>\n",
              "    <tr>\n",
              "      <th>4</th>\n",
              "      <td>4</td>\n",
              "      <td>-11.4</td>\n",
              "      <td>-19.3</td>\n",
              "      <td>1005.0</td>\n",
              "      <td>586.600</td>\n",
              "      <td>222.0</td>\n",
              "      <td>2013</td>\n",
              "      <td>7</td>\n",
              "      <td>1</td>\n",
              "      <td>4</td>\n",
              "      <td>1.0</td>\n",
              "      <td>0.0</td>\n",
              "      <td>0.0</td>\n",
              "    </tr>\n",
              "  </tbody>\n",
              "</table>\n",
              "</div>\n",
              "      <button class=\"colab-df-convert\" onclick=\"convertToInteractive('df-aa209bd3-3bfe-429a-9240-67daa08d6e72')\"\n",
              "              title=\"Convert this dataframe to an interactive table.\"\n",
              "              style=\"display:none;\">\n",
              "        \n",
              "  <svg xmlns=\"http://www.w3.org/2000/svg\" height=\"24px\"viewBox=\"0 0 24 24\"\n",
              "       width=\"24px\">\n",
              "    <path d=\"M0 0h24v24H0V0z\" fill=\"none\"/>\n",
              "    <path d=\"M18.56 5.44l.94 2.06.94-2.06 2.06-.94-2.06-.94-.94-2.06-.94 2.06-2.06.94zm-11 1L8.5 8.5l.94-2.06 2.06-.94-2.06-.94L8.5 2.5l-.94 2.06-2.06.94zm10 10l.94 2.06.94-2.06 2.06-.94-2.06-.94-.94-2.06-.94 2.06-2.06.94z\"/><path d=\"M17.41 7.96l-1.37-1.37c-.4-.4-.92-.59-1.43-.59-.52 0-1.04.2-1.43.59L10.3 9.45l-7.72 7.72c-.78.78-.78 2.05 0 2.83L4 21.41c.39.39.9.59 1.41.59.51 0 1.02-.2 1.41-.59l7.78-7.78 2.81-2.81c.8-.78.8-2.07 0-2.86zM5.41 20L4 18.59l7.72-7.72 1.47 1.35L5.41 20z\"/>\n",
              "  </svg>\n",
              "      </button>\n",
              "      \n",
              "  <style>\n",
              "    .colab-df-container {\n",
              "      display:flex;\n",
              "      flex-wrap:wrap;\n",
              "      gap: 12px;\n",
              "    }\n",
              "\n",
              "    .colab-df-convert {\n",
              "      background-color: #E8F0FE;\n",
              "      border: none;\n",
              "      border-radius: 50%;\n",
              "      cursor: pointer;\n",
              "      display: none;\n",
              "      fill: #1967D2;\n",
              "      height: 32px;\n",
              "      padding: 0 0 0 0;\n",
              "      width: 32px;\n",
              "    }\n",
              "\n",
              "    .colab-df-convert:hover {\n",
              "      background-color: #E2EBFA;\n",
              "      box-shadow: 0px 1px 2px rgba(60, 64, 67, 0.3), 0px 1px 3px 1px rgba(60, 64, 67, 0.15);\n",
              "      fill: #174EA6;\n",
              "    }\n",
              "\n",
              "    [theme=dark] .colab-df-convert {\n",
              "      background-color: #3B4455;\n",
              "      fill: #D2E3FC;\n",
              "    }\n",
              "\n",
              "    [theme=dark] .colab-df-convert:hover {\n",
              "      background-color: #434B5C;\n",
              "      box-shadow: 0px 1px 3px 1px rgba(0, 0, 0, 0.15);\n",
              "      filter: drop-shadow(0px 1px 2px rgba(0, 0, 0, 0.3));\n",
              "      fill: #FFFFFF;\n",
              "    }\n",
              "  </style>\n",
              "\n",
              "      <script>\n",
              "        const buttonEl =\n",
              "          document.querySelector('#df-aa209bd3-3bfe-429a-9240-67daa08d6e72 button.colab-df-convert');\n",
              "        buttonEl.style.display =\n",
              "          google.colab.kernel.accessAllowed ? 'block' : 'none';\n",
              "\n",
              "        async function convertToInteractive(key) {\n",
              "          const element = document.querySelector('#df-aa209bd3-3bfe-429a-9240-67daa08d6e72');\n",
              "          const dataTable =\n",
              "            await google.colab.kernel.invokeFunction('convertToInteractive',\n",
              "                                                     [key], {});\n",
              "          if (!dataTable) return;\n",
              "\n",
              "          const docLinkHtml = 'Like what you see? Visit the ' +\n",
              "            '<a target=\"_blank\" href=https://colab.research.google.com/notebooks/data_table.ipynb>data table notebook</a>'\n",
              "            + ' to learn more about interactive tables.';\n",
              "          element.innerHTML = '';\n",
              "          dataTable['output_type'] = 'display_data';\n",
              "          await google.colab.output.renderOutput(dataTable, element);\n",
              "          const docLink = document.createElement('div');\n",
              "          docLink.innerHTML = docLinkHtml;\n",
              "          element.appendChild(docLink);\n",
              "        }\n",
              "      </script>\n",
              "    </div>\n",
              "  </div>\n",
              "  "
            ]
          },
          "metadata": {},
          "execution_count": 13
        }
      ]
    },
    {
      "cell_type": "code",
      "source": [
        "trainX = trainX[['ID','year','month','day','hour','temperature','pressure','windspeed','var1','electricity_consumption','A','B','C']]\n",
        "trainX.head()"
      ],
      "metadata": {
        "id": "cUwyRu-rOYl6",
        "colab": {
          "base_uri": "https://localhost:8080/",
          "height": 206
        },
        "outputId": "fcb03cb4-5bb6-4e6c-92f4-22dc94eac0a4"
      },
      "execution_count": 14,
      "outputs": [
        {
          "output_type": "execute_result",
          "data": {
            "text/plain": [
              "   ID  year  month  day  hour  temperature  pressure  windspeed  var1  \\\n",
              "0   0  2013      7    1     0        -11.4    1003.0    571.910 -17.1   \n",
              "1   1  2013      7    1     1        -12.1     996.0    575.040 -19.3   \n",
              "2   2  2013      7    1     2        -12.9    1000.0    578.435 -20.0   \n",
              "3   3  2013      7    1     3        -11.4     995.0    582.580 -17.1   \n",
              "4   4  2013      7    1     4        -11.4    1005.0    586.600 -19.3   \n",
              "\n",
              "   electricity_consumption    A    B    C  \n",
              "0                    216.0  1.0  0.0  0.0  \n",
              "1                    210.0  1.0  0.0  0.0  \n",
              "2                    225.0  1.0  0.0  0.0  \n",
              "3                    216.0  1.0  0.0  0.0  \n",
              "4                    222.0  1.0  0.0  0.0  "
            ],
            "text/html": [
              "\n",
              "  <div id=\"df-034917af-80c6-4f45-97b4-2a05c1a69b91\">\n",
              "    <div class=\"colab-df-container\">\n",
              "      <div>\n",
              "<style scoped>\n",
              "    .dataframe tbody tr th:only-of-type {\n",
              "        vertical-align: middle;\n",
              "    }\n",
              "\n",
              "    .dataframe tbody tr th {\n",
              "        vertical-align: top;\n",
              "    }\n",
              "\n",
              "    .dataframe thead th {\n",
              "        text-align: right;\n",
              "    }\n",
              "</style>\n",
              "<table border=\"1\" class=\"dataframe\">\n",
              "  <thead>\n",
              "    <tr style=\"text-align: right;\">\n",
              "      <th></th>\n",
              "      <th>ID</th>\n",
              "      <th>year</th>\n",
              "      <th>month</th>\n",
              "      <th>day</th>\n",
              "      <th>hour</th>\n",
              "      <th>temperature</th>\n",
              "      <th>pressure</th>\n",
              "      <th>windspeed</th>\n",
              "      <th>var1</th>\n",
              "      <th>electricity_consumption</th>\n",
              "      <th>A</th>\n",
              "      <th>B</th>\n",
              "      <th>C</th>\n",
              "    </tr>\n",
              "  </thead>\n",
              "  <tbody>\n",
              "    <tr>\n",
              "      <th>0</th>\n",
              "      <td>0</td>\n",
              "      <td>2013</td>\n",
              "      <td>7</td>\n",
              "      <td>1</td>\n",
              "      <td>0</td>\n",
              "      <td>-11.4</td>\n",
              "      <td>1003.0</td>\n",
              "      <td>571.910</td>\n",
              "      <td>-17.1</td>\n",
              "      <td>216.0</td>\n",
              "      <td>1.0</td>\n",
              "      <td>0.0</td>\n",
              "      <td>0.0</td>\n",
              "    </tr>\n",
              "    <tr>\n",
              "      <th>1</th>\n",
              "      <td>1</td>\n",
              "      <td>2013</td>\n",
              "      <td>7</td>\n",
              "      <td>1</td>\n",
              "      <td>1</td>\n",
              "      <td>-12.1</td>\n",
              "      <td>996.0</td>\n",
              "      <td>575.040</td>\n",
              "      <td>-19.3</td>\n",
              "      <td>210.0</td>\n",
              "      <td>1.0</td>\n",
              "      <td>0.0</td>\n",
              "      <td>0.0</td>\n",
              "    </tr>\n",
              "    <tr>\n",
              "      <th>2</th>\n",
              "      <td>2</td>\n",
              "      <td>2013</td>\n",
              "      <td>7</td>\n",
              "      <td>1</td>\n",
              "      <td>2</td>\n",
              "      <td>-12.9</td>\n",
              "      <td>1000.0</td>\n",
              "      <td>578.435</td>\n",
              "      <td>-20.0</td>\n",
              "      <td>225.0</td>\n",
              "      <td>1.0</td>\n",
              "      <td>0.0</td>\n",
              "      <td>0.0</td>\n",
              "    </tr>\n",
              "    <tr>\n",
              "      <th>3</th>\n",
              "      <td>3</td>\n",
              "      <td>2013</td>\n",
              "      <td>7</td>\n",
              "      <td>1</td>\n",
              "      <td>3</td>\n",
              "      <td>-11.4</td>\n",
              "      <td>995.0</td>\n",
              "      <td>582.580</td>\n",
              "      <td>-17.1</td>\n",
              "      <td>216.0</td>\n",
              "      <td>1.0</td>\n",
              "      <td>0.0</td>\n",
              "      <td>0.0</td>\n",
              "    </tr>\n",
              "    <tr>\n",
              "      <th>4</th>\n",
              "      <td>4</td>\n",
              "      <td>2013</td>\n",
              "      <td>7</td>\n",
              "      <td>1</td>\n",
              "      <td>4</td>\n",
              "      <td>-11.4</td>\n",
              "      <td>1005.0</td>\n",
              "      <td>586.600</td>\n",
              "      <td>-19.3</td>\n",
              "      <td>222.0</td>\n",
              "      <td>1.0</td>\n",
              "      <td>0.0</td>\n",
              "      <td>0.0</td>\n",
              "    </tr>\n",
              "  </tbody>\n",
              "</table>\n",
              "</div>\n",
              "      <button class=\"colab-df-convert\" onclick=\"convertToInteractive('df-034917af-80c6-4f45-97b4-2a05c1a69b91')\"\n",
              "              title=\"Convert this dataframe to an interactive table.\"\n",
              "              style=\"display:none;\">\n",
              "        \n",
              "  <svg xmlns=\"http://www.w3.org/2000/svg\" height=\"24px\"viewBox=\"0 0 24 24\"\n",
              "       width=\"24px\">\n",
              "    <path d=\"M0 0h24v24H0V0z\" fill=\"none\"/>\n",
              "    <path d=\"M18.56 5.44l.94 2.06.94-2.06 2.06-.94-2.06-.94-.94-2.06-.94 2.06-2.06.94zm-11 1L8.5 8.5l.94-2.06 2.06-.94-2.06-.94L8.5 2.5l-.94 2.06-2.06.94zm10 10l.94 2.06.94-2.06 2.06-.94-2.06-.94-.94-2.06-.94 2.06-2.06.94z\"/><path d=\"M17.41 7.96l-1.37-1.37c-.4-.4-.92-.59-1.43-.59-.52 0-1.04.2-1.43.59L10.3 9.45l-7.72 7.72c-.78.78-.78 2.05 0 2.83L4 21.41c.39.39.9.59 1.41.59.51 0 1.02-.2 1.41-.59l7.78-7.78 2.81-2.81c.8-.78.8-2.07 0-2.86zM5.41 20L4 18.59l7.72-7.72 1.47 1.35L5.41 20z\"/>\n",
              "  </svg>\n",
              "      </button>\n",
              "      \n",
              "  <style>\n",
              "    .colab-df-container {\n",
              "      display:flex;\n",
              "      flex-wrap:wrap;\n",
              "      gap: 12px;\n",
              "    }\n",
              "\n",
              "    .colab-df-convert {\n",
              "      background-color: #E8F0FE;\n",
              "      border: none;\n",
              "      border-radius: 50%;\n",
              "      cursor: pointer;\n",
              "      display: none;\n",
              "      fill: #1967D2;\n",
              "      height: 32px;\n",
              "      padding: 0 0 0 0;\n",
              "      width: 32px;\n",
              "    }\n",
              "\n",
              "    .colab-df-convert:hover {\n",
              "      background-color: #E2EBFA;\n",
              "      box-shadow: 0px 1px 2px rgba(60, 64, 67, 0.3), 0px 1px 3px 1px rgba(60, 64, 67, 0.15);\n",
              "      fill: #174EA6;\n",
              "    }\n",
              "\n",
              "    [theme=dark] .colab-df-convert {\n",
              "      background-color: #3B4455;\n",
              "      fill: #D2E3FC;\n",
              "    }\n",
              "\n",
              "    [theme=dark] .colab-df-convert:hover {\n",
              "      background-color: #434B5C;\n",
              "      box-shadow: 0px 1px 3px 1px rgba(0, 0, 0, 0.15);\n",
              "      filter: drop-shadow(0px 1px 2px rgba(0, 0, 0, 0.3));\n",
              "      fill: #FFFFFF;\n",
              "    }\n",
              "  </style>\n",
              "\n",
              "      <script>\n",
              "        const buttonEl =\n",
              "          document.querySelector('#df-034917af-80c6-4f45-97b4-2a05c1a69b91 button.colab-df-convert');\n",
              "        buttonEl.style.display =\n",
              "          google.colab.kernel.accessAllowed ? 'block' : 'none';\n",
              "\n",
              "        async function convertToInteractive(key) {\n",
              "          const element = document.querySelector('#df-034917af-80c6-4f45-97b4-2a05c1a69b91');\n",
              "          const dataTable =\n",
              "            await google.colab.kernel.invokeFunction('convertToInteractive',\n",
              "                                                     [key], {});\n",
              "          if (!dataTable) return;\n",
              "\n",
              "          const docLinkHtml = 'Like what you see? Visit the ' +\n",
              "            '<a target=\"_blank\" href=https://colab.research.google.com/notebooks/data_table.ipynb>data table notebook</a>'\n",
              "            + ' to learn more about interactive tables.';\n",
              "          element.innerHTML = '';\n",
              "          dataTable['output_type'] = 'display_data';\n",
              "          await google.colab.output.renderOutput(dataTable, element);\n",
              "          const docLink = document.createElement('div');\n",
              "          docLink.innerHTML = docLinkHtml;\n",
              "          element.appendChild(docLink);\n",
              "        }\n",
              "      </script>\n",
              "    </div>\n",
              "  </div>\n",
              "  "
            ]
          },
          "metadata": {},
          "execution_count": 14
        }
      ]
    },
    {
      "cell_type": "code",
      "source": [
        "print(trainX.dtypes)"
      ],
      "metadata": {
        "colab": {
          "base_uri": "https://localhost:8080/"
        },
        "id": "62CtWohyOchB",
        "outputId": "381221d5-0715-430e-e520-90c472921bc5"
      },
      "execution_count": 15,
      "outputs": [
        {
          "output_type": "stream",
          "name": "stdout",
          "text": [
            "ID                           int64\n",
            "year                         int64\n",
            "month                        int64\n",
            "day                          int64\n",
            "hour                         int64\n",
            "temperature                float64\n",
            "pressure                   float64\n",
            "windspeed                  float64\n",
            "var1                       float64\n",
            "electricity_consumption    float64\n",
            "A                          float64\n",
            "B                          float64\n",
            "C                          float64\n",
            "dtype: object\n"
          ]
        }
      ]
    },
    {
      "cell_type": "code",
      "source": [
        "X= trainX[['ID','year','month','day','hour','temperature','pressure','windspeed','var1','A','B','C']]\n",
        "y= trainX['electricity_consumption']\n",
        "X.shape, y.shape"
      ],
      "metadata": {
        "id": "u5B8tuc5nw2D",
        "colab": {
          "base_uri": "https://localhost:8080/"
        },
        "outputId": "8a749256-40b1-4ecc-cfbe-8495c869b7f1"
      },
      "execution_count": 16,
      "outputs": [
        {
          "output_type": "execute_result",
          "data": {
            "text/plain": [
              "((26496, 12), (26496,))"
            ]
          },
          "metadata": {},
          "execution_count": 16
        }
      ]
    },
    {
      "cell_type": "code",
      "source": [
        "from sklearn.model_selection import train_test_split\n",
        "X_train, X_test, val_train, val_test = train_test_split(X,y, test_size=0.2, train_size=0.8, shuffle=False)\n",
        "X_train.shape,X_test.shape,val_train.shape,val_test.shape"
      ],
      "metadata": {
        "id": "Sw-OQyjXlxc-",
        "colab": {
          "base_uri": "https://localhost:8080/"
        },
        "outputId": "738e8285-ee94-4afa-d6f5-097d991060f6"
      },
      "execution_count": 17,
      "outputs": [
        {
          "output_type": "execute_result",
          "data": {
            "text/plain": [
              "((21196, 12), (5300, 12), (21196,), (5300,))"
            ]
          },
          "metadata": {},
          "execution_count": 17
        }
      ]
    },
    {
      "cell_type": "code",
      "source": [
        "from sklearn.preprocessing import MinMaxScaler\n",
        "minmax = MinMaxScaler()\n",
        "train = minmax.fit_transform(X_train)\n",
        "test = minmax.fit_transform(X_test)\n",
        "\n",
        "train.shape,test.shape"
      ],
      "metadata": {
        "colab": {
          "base_uri": "https://localhost:8080/"
        },
        "id": "TnBKhDXX7y_a",
        "outputId": "b030b14a-718c-4431-83c7-e1b77abd3e21"
      },
      "execution_count": 18,
      "outputs": [
        {
          "output_type": "execute_result",
          "data": {
            "text/plain": [
              "((21196, 12), (5300, 12))"
            ]
          },
          "metadata": {},
          "execution_count": 18
        }
      ]
    },
    {
      "cell_type": "markdown",
      "source": [
        "Plots"
      ],
      "metadata": {
        "id": "R0ygC4gkVonY"
      }
    },
    {
      "cell_type": "code",
      "source": [
        "import matplotlib.pyplot as plt\n",
        "pd.plotting.register_matplotlib_converters()\n",
        "%matplotlib inline\n",
        "import seaborn as sns"
      ],
      "metadata": {
        "id": "r8hbZOYPVpxn"
      },
      "execution_count": 19,
      "outputs": []
    },
    {
      "cell_type": "code",
      "source": [
        "# Set the width and height of the figure\n",
        "plt.figure(figsize=(16,8))\n",
        "# Add title\n",
        "plt.title(\"Electricity Consumption Rate on monthly basis\")\n",
        "# Line chart showing monthly trend\n",
        "sns.lineplot(y=trainX['electricity_consumption'], x=trainX['month'], label=\"Monthly\")"
      ],
      "metadata": {
        "colab": {
          "base_uri": "https://localhost:8080/",
          "height": 530
        },
        "id": "ZInZR4bLXLyl",
        "outputId": "b45c08de-7922-4d60-ccd0-1a12c7026f08"
      },
      "execution_count": 21,
      "outputs": [
        {
          "output_type": "execute_result",
          "data": {
            "text/plain": [
              "<matplotlib.axes._subplots.AxesSubplot at 0x7f3878582eb0>"
            ]
          },
          "metadata": {},
          "execution_count": 21
        },
        {
          "output_type": "display_data",
          "data": {
            "text/plain": [
              "<Figure size 1152x576 with 1 Axes>"
            ],
            "image/png": "[encoded data removed]"
          },
          "metadata": {
            "needs_background": "light"
          }
        }
      ]
    },
    {
      "cell_type": "code",
      "source": [
        "# Set the width and height of the figure\n",
        "plt.figure(figsize=(16,8))\n",
        "# Add title\n",
        "plt.title(\"Electricity Consumption Rate on daily basis\")\n",
        "# Line chart showing daily trend\n",
        "sns.lineplot(y=trainX['electricity_consumption'], x=trainX['day'], label=\"Daily\")"
      ],
      "metadata": {
        "colab": {
          "base_uri": "https://localhost:8080/",
          "height": 530
        },
        "id": "5U0hj2CpXZCF",
        "outputId": "2cfaa81b-aa6c-4924-a1db-e13e0d08fc3f"
      },
      "execution_count": 22,
      "outputs": [
        {
          "output_type": "execute_result",
          "data": {
            "text/plain": [
              "<matplotlib.axes._subplots.AxesSubplot at 0x7f3877ce9ca0>"
            ]
          },
          "metadata": {},
          "execution_count": 22
        },
        {
          "output_type": "display_data",
          "data": {
            "text/plain": [
              "<Figure size 1152x576 with 1 Axes>"
            ],
            "image/png": "[encoded data removed]"
          },
          "metadata": {
            "needs_background": "light"
          }
        }
      ]
    },
    {
      "cell_type": "code",
      "source": [
        "# Set the width and height of the figure\n",
        "plt.figure(figsize=(16,8))\n",
        "# Add title\n",
        "plt.title(\"Electricity Consumption Rate variation on Temperature\")\n",
        "# Line chart showing temperature trend\n",
        "sns.lineplot(y=trainX['electricity_consumption'], x=trainX['temperature'], label=\"Temperature\")"
      ],
      "metadata": {
        "colab": {
          "base_uri": "https://localhost:8080/",
          "height": 530
        },
        "id": "CKCymmm-Xf-k",
        "outputId": "eeee0b9c-4fc7-4b12-dd85-7880ffa70388"
      },
      "execution_count": 23,
      "outputs": [
        {
          "output_type": "execute_result",
          "data": {
            "text/plain": [
              "<matplotlib.axes._subplots.AxesSubplot at 0x7f3877c64130>"
            ]
          },
          "metadata": {},
          "execution_count": 23
        },
        {
          "output_type": "display_data",
          "data": {
            "text/plain": [
              "<Figure size 1152x576 with 1 Axes>"
            ],
            "image/png": "[encoded data removed]"
          },
          "metadata": {
            "needs_background": "light"
          }
        }
      ]
    },
    {
      "cell_type": "code",
      "source": [
        "# Set the width and height of the figure\n",
        "plt.figure(figsize=(16,8))\n",
        "# Add title\n",
        "plt.title(\"Electricity Consumption Rate variation on Pressure\")\n",
        "# Line chart showing pressure trend\n",
        "sns.lineplot(y=trainX['electricity_consumption'], x=trainX['pressure'], label=\"Pressure\")"
      ],
      "metadata": {
        "colab": {
          "base_uri": "https://localhost:8080/",
          "height": 530
        },
        "id": "0M4qJZNjXohV",
        "outputId": "a7da4c2a-f606-4015-a48a-bca7228b3f27"
      },
      "execution_count": 24,
      "outputs": [
        {
          "output_type": "execute_result",
          "data": {
            "text/plain": [
              "<matplotlib.axes._subplots.AxesSubplot at 0x7f3877ce9dc0>"
            ]
          },
          "metadata": {},
          "execution_count": 24
        },
        {
          "output_type": "display_data",
          "data": {
            "text/plain": [
              "<Figure size 1152x576 with 1 Axes>"
            ],
            "image/png": "[encoded data removed]"
          },
          "metadata": {
            "needs_background": "light"
          }
        }
      ]
    },
    {
      "cell_type": "code",
      "source": [
        "# Set the width and height of the figure\n",
        "plt.figure(figsize=(16,8))\n",
        "# Add title\n",
        "plt.title(\"Electricity Consumption Rate variation on Windspeed\")\n",
        "# Line chart showing windspeed trend\n",
        "sns.lineplot(y=trainX['electricity_consumption'], x=trainX['windspeed'], label=\"Windspeed\")"
      ],
      "metadata": {
        "colab": {
          "base_uri": "https://localhost:8080/",
          "height": 530
        },
        "id": "WM5v4wNBXzjP",
        "outputId": "4e799560-c11e-4383-c029-e3b25ea8ddee"
      },
      "execution_count": 25,
      "outputs": [
        {
          "output_type": "execute_result",
          "data": {
            "text/plain": [
              "<matplotlib.axes._subplots.AxesSubplot at 0x7f3874b67e20>"
            ]
          },
          "metadata": {},
          "execution_count": 25
        },
        {
          "output_type": "display_data",
          "data": {
            "text/plain": [
              "<Figure size 1152x576 with 1 Axes>"
            ],
            "image/png": "[encoded data removed]"
          },
          "metadata": {
            "needs_background": "light"
          }
        }
      ]
    },
    {
      "cell_type": "markdown",
      "source": [
        "ML models\n",
        "\n",
        "\n",
        "1.   SVM (Support vector machine) Algorithm\n",
        "2.   Random Forest\n",
        "\n"
      ],
      "metadata": {
        "id": "-g74KNYYeX3s"
      }
    },
    {
      "cell_type": "code",
      "source": [
        "#svm\n",
        "from sklearn import svm\n",
        "from sklearn.svm import SVR\n",
        "\n",
        "regressor = SVR(kernel = 'rbf', C=1, epsilon=10)\n",
        "regressor.fit(train, val_train)\n",
        "pred=regressor.predict(test)"
      ],
      "metadata": {
        "id": "At3IaqaeNYe_"
      },
      "execution_count": 26,
      "outputs": []
    },
    {
      "cell_type": "code",
      "source": [
        "#Random forest\n",
        "from sklearn.ensemble import RandomForestRegressor\n",
        "\n",
        "rf_model = RandomForestRegressor(n_estimators=100, max_features=\"auto\")\n",
        "rf_model.fit(train, val_train)\n",
        "\n",
        "predictions = rf_model.predict(test)"
      ],
      "metadata": {
        "id": "6JiVP2Bcb9hF"
      },
      "execution_count": 27,
      "outputs": []
    },
    {
      "cell_type": "markdown",
      "source": [
        "Metrics"
      ],
      "metadata": {
        "id": "O1WBMrRgap8X"
      }
    },
    {
      "cell_type": "code",
      "source": [
        "import math  \n",
        "from sklearn.metrics import mean_squared_error,r2_score,mean_absolute_error\n",
        "from math import sqrt\n",
        "\n",
        "mse_svm = mean_squared_error(pred, val_test, squared=False)\n",
        "rmse_svm = math.sqrt(mse_svm)\n",
        "mse_rf = mean_squared_error(predictions, val_test, squared=False)\n",
        "rmse_rf = math.sqrt(mse_rf)\n",
        "mae_svm = mean_absolute_error(pred, val_test)\n",
        "mae_rf = mean_absolute_error(predictions, val_test)\n",
        "\n",
        "print(\"mse_svm: \", mse_svm)\n",
        "print(\"mse_rf: \", mse_rf)\n",
        "print(\"rmse_svm: \", rmse_svm)\n",
        "print(\"rmse_rf: \", rmse_rf)\n",
        "print(\"mae_svm: \", mae_svm)\n",
        "print(\"mae_rf: \", mae_rf)\n",
        "\n",
        "# print('MAE: %f' % mae)\n",
        "# print('MSE: %f' % mse)\n",
        "# print('RMSE: %f' % sqrt(mse))"
      ],
      "metadata": {
        "colab": {
          "base_uri": "https://localhost:8080/"
        },
        "id": "GIJYV4Mmarll",
        "outputId": "bc5afaf1-b936-47ad-cfef-d91a1470d9c7"
      },
      "execution_count": 28,
      "outputs": [
        {
          "output_type": "stream",
          "name": "stdout",
          "text": [
            "mse_svm:  85.48301603213541\n",
            "mse_rf:  79.28792828552983\n",
            "rmse_svm:  9.245702571039986\n",
            "rmse_rf:  8.904376917310376\n",
            "mae_svm:  58.321504979817604\n",
            "mae_rf:  55.84112830188679\n"
          ]
        }
      ]
    }
  ]
}